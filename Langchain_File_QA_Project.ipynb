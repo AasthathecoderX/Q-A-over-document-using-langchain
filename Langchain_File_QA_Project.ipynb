{
  "cells": [
    {
      "cell_type": "markdown",
      "metadata": {
        "id": "view-in-github",
        "colab_type": "text"
      },
      "source": [
        "<a href=\"https://colab.research.google.com/github/AasthathecoderX/Q-A-over-document-using-langchain/blob/main/Langchain_File_QA_Project.ipynb\" target=\"_parent\"><img src=\"https://colab.research.google.com/assets/colab-badge.svg\" alt=\"Open In Colab\"/></a>"
      ]
    },
    {
      "cell_type": "code",
      "execution_count": null,
      "metadata": {
        "collapsed": true,
        "id": "kujfMdVAT-fJ"
      },
      "outputs": [],
      "source": [
        "!pip install langchain langchain-community #Different doc uploaded\n",
        "!pip install faiss-cpu #facebook AI similarity search\n",
        "!pip install pydf python-docx\n",
        "!pip install sentence-transformers #as dataset is in particular sentence or txt\n",
        "!pip install transformers #after sentence-transforms as first install for specific then for all types"
      ]
    },
    {
      "cell_type": "code",
      "execution_count": null,
      "metadata": {
        "id": "-pMEBZ9dcQtK"
      },
      "outputs": [],
      "source": [
        "from google.colab import files #picks file from local and stores in Jupiter kernel\n",
        "uploaded=files.upload()\n",
        "\n",
        "file_path=list(uploaded.keys())[0]\n",
        "print(\"Uploaded:\",file_path)"
      ]
    },
    {
      "cell_type": "code",
      "execution_count": null,
      "metadata": {
        "id": "Xz-CcLojizb-"
      },
      "outputs": [],
      "source": [
        "from langchain_community.document_loaders import PyPDFLoader,TextLoader,Docx2txtLoader\n",
        "from langchain.text_splitter import RecursiveCharacterTextSplitter\n",
        "\n",
        "\n",
        "if file_path.endswith('.pdf'):\n",
        "    loader=PyPDFLoader(file_path)\n",
        "elif file_path.endswith('.docx') or file_path.endswith('.doc'):\n",
        "    loader=Docx2txtLoader(file_path)\n",
        "else:\n",
        "    loader=TextLoader(file_path)\n",
        "\n",
        "docs =loader.load()\n",
        "\n",
        "#split into smaller chunks\n",
        "\n",
        "splitter=RecursiveCharacterTextSplitter(chunk_size=500,chunk_overlap=100)\n",
        "documents=splitter.split_documents(docs)\n",
        "\n",
        "print(f\"Total Chunks:{len(documents)}\")"
      ]
    },
    {
      "cell_type": "code",
      "execution_count": null,
      "metadata": {
        "collapsed": true,
        "id": "pYbbiGsMlpky"
      },
      "outputs": [],
      "source": [
        "from langchain_community.embeddings import HuggingFaceBgeEmbeddings\n",
        "from langchain_community.vectorstores import FAISS\n",
        "\n",
        "embeddings = HuggingFaceBgeEmbeddings(model_name=\"sentence-transformers/all-MiniLM-L6-v2\")\n",
        "vectorstore = FAISS.from_documents(documents, embeddings)"
      ]
    },
    {
      "cell_type": "code",
      "execution_count": null,
      "metadata": {
        "collapsed": true,
        "id": "oBqp-oa7nTfA"
      },
      "outputs": [],
      "source": [
        "from transformers import pipeline\n",
        "from langchain.llms import HuggingFacePipeline\n",
        "\n",
        "flan_pipeline=pipeline(\"text2text-generation\",\n",
        "                       model=\"google/flan-t5-base\",\n",
        "                       max_length=520)#limit number of tokens of response\n",
        "llm=HuggingFacePipeline(pipeline=flan_pipeline)"
      ]
    },
    {
      "cell_type": "code",
      "execution_count": null,
      "metadata": {
        "id": "kvurEDBjo33B"
      },
      "outputs": [],
      "source": [
        "from langchain.chains import RetrievalQA\n",
        "qa=RetrievalQA.from_chain_type(llm=llm,chain_type=\"stuff\",\n",
        "                                retriever=vectorstore.as_retriever(search_kwargs={\"k\":3}))\n",
        "\n",
        "query =\"Give me short summarise the document\"\n",
        "print(qa.run(query))"
      ]
    },
    {
      "cell_type": "code",
      "execution_count": null,
      "metadata": {
        "colab": {
          "background_save": true
        },
        "id": "BBc6CPEIpro8"
      },
      "outputs": [],
      "source": [
        "while True:\n",
        "  q=input(\"Ask a question(or 'exit'):\")\n",
        "  if q.lower()==\"exit\":\n",
        "    break\n",
        "  print(\"Answer:\",qa.run(q))"
      ]
    }
  ],
  "metadata": {
    "colab": {
      "provenance": [],
      "authorship_tag": "ABX9TyPqlJwFPP1R6Fyqm5qxIWR4",
      "include_colab_link": true
    },
    "kernelspec": {
      "display_name": "Python 3",
      "name": "python3"
    },
    "language_info": {
      "name": "python"
    }
  },
  "nbformat": 4,
  "nbformat_minor": 0
}